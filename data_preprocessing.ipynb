{
 "cells": [
  {
   "cell_type": "code",
   "execution_count": 8,
   "metadata": {},
   "outputs": [
    {
     "data": {
      "text/html": [
       "<div>\n",
       "<style scoped>\n",
       "    .dataframe tbody tr th:only-of-type {\n",
       "        vertical-align: middle;\n",
       "    }\n",
       "\n",
       "    .dataframe tbody tr th {\n",
       "        vertical-align: top;\n",
       "    }\n",
       "\n",
       "    .dataframe thead th {\n",
       "        text-align: right;\n",
       "    }\n",
       "</style>\n",
       "<table border=\"1\" class=\"dataframe\">\n",
       "  <thead>\n",
       "    <tr style=\"text-align: right;\">\n",
       "      <th></th>\n",
       "      <th>company name</th>\n",
       "      <th>website</th>\n",
       "      <th>gmail</th>\n",
       "      <th>problems</th>\n",
       "      <th>status</th>\n",
       "    </tr>\n",
       "  </thead>\n",
       "  <tbody>\n",
       "    <tr>\n",
       "      <th>0</th>\n",
       "      <td>Techxaura</td>\n",
       "      <td>https://www.techxaura.com/</td>\n",
       "      <td>zaidworks515@gmail.com, compiletimeterror@gmai...</td>\n",
       "      <td>SQA, SEO kab karenge bhai hum site pr????</td>\n",
       "      <td>NaN</td>\n",
       "    </tr>\n",
       "  </tbody>\n",
       "</table>\n",
       "</div>"
      ],
      "text/plain": [
       "  company name                     website  \\\n",
       "0    Techxaura  https://www.techxaura.com/   \n",
       "\n",
       "                                               gmail  \\\n",
       "0  zaidworks515@gmail.com, compiletimeterror@gmai...   \n",
       "\n",
       "                                    problems  status  \n",
       "0  SQA, SEO kab karenge bhai hum site pr????     NaN  "
      ]
     },
     "execution_count": 8,
     "metadata": {},
     "output_type": "execute_result"
    }
   ],
   "source": [
    "import pandas as pd\n",
    "\n",
    "dataframe = pd.read_excel('company data.xlsx')\n",
    "dataframe"
   ]
  },
  {
   "cell_type": "code",
   "execution_count": 15,
   "metadata": {},
   "outputs": [
    {
     "name": "stdout",
     "output_type": "stream",
     "text": [
      "['zaidworks515@gmail.com', ' compiletimeterror@gmail.com', ' 3proshooter@gmail.com', ' maaz70724@gmail.com', ' hussain26092003@gmail.com']\n"
     ]
    }
   ],
   "source": [
    "for index, row in dataframe.iterrows():\n",
    "    company_name = dataframe['company name'][index]\n",
    "    website = dataframe['website'][index]\n",
    "    emails = dataframe['gmail'][index]\n",
    "    emails_list = emails.split(',')\n",
    "    problems = dataframe['problems'][index]\n",
    "    "
   ]
  }
 ],
 "metadata": {
  "kernelspec": {
   "display_name": "venv",
   "language": "python",
   "name": "python3"
  },
  "language_info": {
   "codemirror_mode": {
    "name": "ipython",
    "version": 3
   },
   "file_extension": ".py",
   "mimetype": "text/x-python",
   "name": "python",
   "nbconvert_exporter": "python",
   "pygments_lexer": "ipython3",
   "version": "3.10.6"
  }
 },
 "nbformat": 4,
 "nbformat_minor": 2
}
